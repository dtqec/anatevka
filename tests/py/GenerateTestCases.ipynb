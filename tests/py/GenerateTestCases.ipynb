{
 "cells": [
  {
   "cell_type": "code",
   "execution_count": null,
   "id": "9c4066b9-4681-4652-9339-7546f9f8ab43",
   "metadata": {},
   "outputs": [],
   "source": [
    "from generate_test_cases import generate_sparse_complete_graph, find_min_weight_perfect_matching, visualize_graph, save_matching_to_file"
   ]
  },
  {
   "cell_type": "code",
   "execution_count": null,
   "id": "8340f011-13ac-4327-9bce-72dc87c7ede6",
   "metadata": {},
   "outputs": [],
   "source": [
    "p = 0.4\n",
    "n = 20"
   ]
  },
  {
   "cell_type": "code",
   "execution_count": null,
   "id": "b075b58e-6ca9-45cd-83c6-9377cd7c2a89",
   "metadata": {},
   "outputs": [],
   "source": [
    "for i in range(0, 10):\n",
    "    G, nodes = generate_sparse_complete_graph(n, p)\n",
    "    matching, mwpm_value = find_min_weight_perfect_matching(G)\n",
    "    filename = f\"cases/{n}/{p}-{i}.txt\"\n",
    "    save_matching_to_file(filename, mwpm_value, nodes)"
   ]
  }
 ],
 "metadata": {
  "kernelspec": {
   "display_name": "Python 3 (ipykernel)",
   "language": "python",
   "name": "python3"
  },
  "language_info": {
   "codemirror_mode": {
    "name": "ipython",
    "version": 3
   },
   "file_extension": ".py",
   "mimetype": "text/x-python",
   "name": "python",
   "nbconvert_exporter": "python",
   "pygments_lexer": "ipython3",
   "version": "3.12.4"
  }
 },
 "nbformat": 4,
 "nbformat_minor": 5
}
